{
  "nbformat": 4,
  "nbformat_minor": 0,
  "metadata": {
    "colab": {
      "name": "NLP_Assignment1",
      "provenance": [],
      "authorship_tag": "ABX9TyM2l4Z9KgavPE++h9tugrFt"
    },
    "kernelspec": {
      "name": "python3",
      "display_name": "Python 3"
    },
    "language_info": {
      "name": "python"
    }
  },
  "cells": [
    {
      "cell_type": "code",
      "metadata": {
        "id": "ElPThN5GWAZl"
      },
      "source": [
        "# Test"
      ],
      "execution_count": null,
      "outputs": []
    }
  ]
}
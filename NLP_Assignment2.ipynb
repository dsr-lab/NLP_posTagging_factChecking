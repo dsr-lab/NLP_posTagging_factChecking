{
  "nbformat": 4,
  "nbformat_minor": 0,
  "metadata": {
    "colab": {
      "name": "NLP_Assignment2.ipynb",
      "provenance": [],
      "toc_visible": true
    },
    "kernelspec": {
      "name": "python3",
      "display_name": "Python 3"
    },
    "language_info": {
      "name": "python"
    }
  },
  "cells": [
    {
      "cell_type": "code",
      "metadata": {
        "id": "_V1LWnzR6u13"
      },
      "source": [
        "import os\n",
        "import re\n",
        "import requests\n",
        "import zipfile\n",
        "import pandas as pd\n",
        "from functools import reduce\n",
        "\n",
        "import nltk\n",
        "from nltk.corpus import stopwords\n",
        "\n",
        "# typing\n",
        "from typing import List, Callable, Dict"
      ],
      "execution_count": 1,
      "outputs": []
    },
    {
      "cell_type": "markdown",
      "metadata": {
        "id": "t9xBYfRb6cjF"
      },
      "source": [
        "# Data pipeline\n",
        "The goal of this section is to convert initial textual input into a numerical format that is compatible with our models."
      ]
    },
    {
      "cell_type": "markdown",
      "metadata": {
        "id": "djQIk9xwZ8jd"
      },
      "source": [
        "## Data Loading\n",
        "Download the dataset and save it to file system.\n",
        "The dataset is composed by 3 csv files: train, validation and test. These 3 csv files will be loaded directly into 3 different dataframes."
      ]
    },
    {
      "cell_type": "code",
      "metadata": {
        "id": "pdVaaLhS6bNc"
      },
      "source": [
        "def save_response_content(response, destination):\n",
        "    CHUNK_SIZE = 32768\n",
        "\n",
        "    with open(destination, \"wb\") as f:\n",
        "        for chunk in response.iter_content(CHUNK_SIZE):\n",
        "            if chunk: # filter out keep-alive new chunks\n",
        "                f.write(chunk)\n",
        "\n",
        "def download_data(data_path):\n",
        "    toy_data_path = os.path.join(data_path, 'fever_data.zip')\n",
        "    toy_data_url_id = \"1wArZhF9_SHW17WKNGeLmX-QTYw9Zscl1\"\n",
        "    toy_url = \"https://docs.google.com/uc?export=download\"\n",
        "\n",
        "    if not os.path.exists(data_path):\n",
        "        os.makedirs(data_path)\n",
        "\n",
        "    if not os.path.exists(toy_data_path):\n",
        "        print(\"Downloading FEVER data splits...\")\n",
        "        with requests.Session() as current_session:\n",
        "            response = current_session.get(toy_url,\n",
        "                                   params={'id': toy_data_url_id},\n",
        "                                   stream=True)\n",
        "        save_response_content(response, toy_data_path)\n",
        "        print(\"Download completed!\")\n",
        "\n",
        "        print(\"Extracting dataset...\")\n",
        "        with zipfile.ZipFile(toy_data_path) as loaded_zip:\n",
        "            loaded_zip.extractall(data_path)\n",
        "        print(\"Extraction completed!\")\n",
        "\n",
        "download_data('dataset')"
      ],
      "execution_count": 2,
      "outputs": []
    },
    {
      "cell_type": "markdown",
      "metadata": {
        "id": "EZeR75ZaabyS"
      },
      "source": [
        "Load the files into different data frames."
      ]
    },
    {
      "cell_type": "code",
      "metadata": {
        "id": "FxE3Zp2I6y80"
      },
      "source": [
        "# Be sure all columns have a name\n",
        "column_names = ['Row', 'Claim', 'Evidence', 'ID', 'Label']\n",
        "\n",
        "# Load the datasets\n",
        "df_train = pd.read_csv ('dataset/train_pairs.csv', names=column_names, header=0)\n",
        "df_val = pd.read_csv ('dataset/val_pairs.csv', names=column_names, header=0)\n",
        "df_test = pd.read_csv ('dataset/test_pairs.csv', names=column_names, header=0)\n"
      ],
      "execution_count": 3,
      "outputs": []
    },
    {
      "cell_type": "code",
      "metadata": {
        "colab": {
          "base_uri": "https://localhost:8080/",
          "height": 204
        },
        "id": "lGaexishbQFT",
        "outputId": "56e99c6d-0334-49c8-a039-e39b72e7b1e6"
      },
      "source": [
        "df_train.head()"
      ],
      "execution_count": 4,
      "outputs": [
        {
          "output_type": "execute_result",
          "data": {
            "text/html": [
              "<div>\n",
              "<style scoped>\n",
              "    .dataframe tbody tr th:only-of-type {\n",
              "        vertical-align: middle;\n",
              "    }\n",
              "\n",
              "    .dataframe tbody tr th {\n",
              "        vertical-align: top;\n",
              "    }\n",
              "\n",
              "    .dataframe thead th {\n",
              "        text-align: right;\n",
              "    }\n",
              "</style>\n",
              "<table border=\"1\" class=\"dataframe\">\n",
              "  <thead>\n",
              "    <tr style=\"text-align: right;\">\n",
              "      <th></th>\n",
              "      <th>Row</th>\n",
              "      <th>Claim</th>\n",
              "      <th>Evidence</th>\n",
              "      <th>ID</th>\n",
              "      <th>Label</th>\n",
              "    </tr>\n",
              "  </thead>\n",
              "  <tbody>\n",
              "    <tr>\n",
              "      <th>0</th>\n",
              "      <td>0</td>\n",
              "      <td>Chris Hemsworth appeared in A Perfect Getaway.</td>\n",
              "      <td>2\\tHemsworth has also appeared in the science ...</td>\n",
              "      <td>3</td>\n",
              "      <td>SUPPORTS</td>\n",
              "    </tr>\n",
              "    <tr>\n",
              "      <th>1</th>\n",
              "      <td>1</td>\n",
              "      <td>Roald Dahl is a writer.</td>\n",
              "      <td>0\\tRoald Dahl -LRB- -LSB- langpronˈroʊ.əld _ ˈ...</td>\n",
              "      <td>7</td>\n",
              "      <td>SUPPORTS</td>\n",
              "    </tr>\n",
              "    <tr>\n",
              "      <th>2</th>\n",
              "      <td>2</td>\n",
              "      <td>Roald Dahl is a governor.</td>\n",
              "      <td>0\\tRoald Dahl -LRB- -LSB- langpronˈroʊ.əld _ ˈ...</td>\n",
              "      <td>8</td>\n",
              "      <td>REFUTES</td>\n",
              "    </tr>\n",
              "    <tr>\n",
              "      <th>3</th>\n",
              "      <td>3</td>\n",
              "      <td>Ireland has relatively low-lying mountains.</td>\n",
              "      <td>10\\tThe island 's geography comprises relative...</td>\n",
              "      <td>9</td>\n",
              "      <td>SUPPORTS</td>\n",
              "    </tr>\n",
              "    <tr>\n",
              "      <th>4</th>\n",
              "      <td>4</td>\n",
              "      <td>Ireland does not have relatively low-lying mou...</td>\n",
              "      <td>10\\tThe island 's geography comprises relative...</td>\n",
              "      <td>10</td>\n",
              "      <td>REFUTES</td>\n",
              "    </tr>\n",
              "  </tbody>\n",
              "</table>\n",
              "</div>"
            ],
            "text/plain": [
              "   Row                                              Claim  ...  ID     Label\n",
              "0    0     Chris Hemsworth appeared in A Perfect Getaway.  ...   3  SUPPORTS\n",
              "1    1                            Roald Dahl is a writer.  ...   7  SUPPORTS\n",
              "2    2                          Roald Dahl is a governor.  ...   8   REFUTES\n",
              "3    3        Ireland has relatively low-lying mountains.  ...   9  SUPPORTS\n",
              "4    4  Ireland does not have relatively low-lying mou...  ...  10   REFUTES\n",
              "\n",
              "[5 rows x 5 columns]"
            ]
          },
          "metadata": {},
          "execution_count": 4
        }
      ]
    },
    {
      "cell_type": "markdown",
      "metadata": {
        "id": "lMfITa8PbVR6"
      },
      "source": [
        "## Data Pre-processing\n",
        "Perform text cleaning and tokenization operations.\n",
        "Start by creating some utility methods that will be used for cleaning the text."
      ]
    },
    {
      "cell_type": "code",
      "metadata": {
        "id": "bB4obklU6-jP"
      },
      "source": [
        "# Special characters to remove: /(){}[]|@,;\n",
        "REPLACE_BY_SPACE_RE = re.compile('[/(){}\\[\\]\\|@,;]')\n",
        "\n",
        "# Accepted symbols:\n",
        "# - numbers between 0-9\n",
        "# - all lower cased letters\n",
        "# - whitespace, #, + _\n",
        "GOOD_SYMBOLS_RE = re.compile('[^0-9a-z #+_]')\n",
        "\n",
        "# - ^ begnning of a string\n",
        "# - \\d any digit\n",
        "# - \\s whitespaces and tabs\n",
        "BEGINNING_IDS_RE = re.compile('^\\d*\\s*')\n",
        "\n",
        "# The stopwords are a list of words that are very very common but don’t \n",
        "# provide useful information for most text analysis procedures.\n",
        "# Therefore, they will be removed from the dataset\n",
        "try:\n",
        "    STOPWORDS = set(stopwords.words('english'))\n",
        "except LookupError:\n",
        "    nltk.download('stopwords')\n",
        "    STOPWORDS = set(stopwords.words('english'))\n",
        "\n",
        "def replace_special_characters(text: str) -> str:\n",
        "    \"\"\"\n",
        "    Replaces special characters, such as paranthesis,\n",
        "    with spacing character\n",
        "    \"\"\"\n",
        "\n",
        "    return REPLACE_BY_SPACE_RE.sub(' ', text)\n",
        "\n",
        "def lower(text: str) -> str:\n",
        "    \"\"\"\n",
        "    Transforms given text to lower case.\n",
        "    Example:\n",
        "    Input: 'I really like New York city'\n",
        "    Output: 'i really like new your city'\n",
        "    \"\"\"\n",
        "\n",
        "    return text.lower()\n",
        "\n",
        "def replace_special_characters(text: str) -> str:\n",
        "    \"\"\"\n",
        "    Replaces special characters, such as paranthesis,\n",
        "    with spacing character\n",
        "    \"\"\"\n",
        "\n",
        "    return REPLACE_BY_SPACE_RE.sub(' ', text)\n",
        "\n",
        "def filter_out_uncommon_symbols(text: str) -> str:\n",
        "    \"\"\"\n",
        "    Removes any special character that is not in the\n",
        "    good symbols list (check regular expression)\n",
        "    \"\"\"\n",
        "\n",
        "    return GOOD_SYMBOLS_RE.sub('', text)\n",
        "\n",
        "def remove_stopwords(text: str) -> str:\n",
        "    \"\"\"\n",
        "    Method used for removing most common words\n",
        "\n",
        "    Parameters\n",
        "    ----------\n",
        "    text : str\n",
        "        The text to process\n",
        "    \n",
        "    Returns\n",
        "    -------\n",
        "    text : str\n",
        "        The processed text.\n",
        "    \"\"\"\n",
        "    return ' '.join([x for x in text.split() if x and x not in STOPWORDS])\n",
        "\n",
        "def strip_text(text: str) -> str:\n",
        "    \"\"\"\n",
        "    Removes any left or right spacing (including carriage return) from text.\n",
        "    Example:\n",
        "    Input: '  This assignment is cool\\n'\n",
        "    Output: 'This assignment is cool'\n",
        "    \"\"\"\n",
        "\n",
        "    return text.strip()\n",
        "\n",
        "def replace_ids(text: str) -> str:\n",
        "    \"\"\"\n",
        "    Method used for removing ids and some whitespaces that could appear\n",
        "    at the beginning of the text.\n",
        "\n",
        "    Parameters\n",
        "    ----------\n",
        "    text : str\n",
        "        The text to process\n",
        "    \n",
        "    Returns\n",
        "    -------\n",
        "    text : str\n",
        "        The processed text.\n",
        "    \"\"\"\n",
        "    return BEGINNING_IDS_RE.sub('', text)\n",
        "\n",
        "GENERIC_PREPROCESSING_PIPELINE = [\n",
        "                                  lower,\n",
        "                                  replace_special_characters,\n",
        "                                  filter_out_uncommon_symbols,\n",
        "                                  remove_stopwords,\n",
        "                                  strip_text\n",
        "                                  ]\n",
        "\n",
        "EVIDENCES_PREPROCESSING_PIPELINE = GENERIC_PREPROCESSING_PIPELINE\n",
        "EVIDENCES_PREPROCESSING_PIPELINE.insert(0, replace_ids)\n",
        "    \n",
        "\n",
        "def text_prepare(text: str,\n",
        "                 filter_methods: List[Callable[[str], str]] = None) -> str:\n",
        "    \"\"\"\n",
        "    Applies a list of pre-processing functions in sequence (reduce).\n",
        "    Note that the order is important here!\n",
        "    \"\"\"\n",
        "    filter_methods = \\\n",
        "        filter_methods if filter_methods is not None else GENERIC_PREPROCESSING_PIPELINE\n",
        "\n",
        "    return reduce(lambda txt, f: f(txt), filter_methods, text)"
      ],
      "execution_count": 5,
      "outputs": []
    },
    {
      "cell_type": "markdown",
      "metadata": {
        "id": "MKct7tDs0o3W"
      },
      "source": [
        "Now we are ready to pre-process the dataset."
      ]
    },
    {
      "cell_type": "code",
      "metadata": {
        "id": "ochx9GctfdkX"
      },
      "source": [
        "def preprocess_dataset(df: pd.DataFrame) -> pd.DataFrame:\n",
        "    # Replace each sentence with its pre-processed version\n",
        "    df['Evidence'] = df['Evidence'].apply(\n",
        "        lambda txt: text_prepare(txt, filter_methods=EVIDENCES_PREPROCESSING_PIPELINE)\n",
        "        )\n",
        "    df['Claim'] = df['Claim'].apply(lambda txt: text_prepare(txt))\n",
        "    \n",
        "    return df\n",
        "\n",
        "df_train = preprocess_dataset(df_train)\n",
        "df_val = preprocess_dataset(df_val)\n",
        "df_test = preprocess_dataset(df_test)"
      ],
      "execution_count": 6,
      "outputs": []
    },
    {
      "cell_type": "code",
      "metadata": {
        "colab": {
          "base_uri": "https://localhost:8080/",
          "height": 204
        },
        "id": "d-SLZC-5nytP",
        "outputId": "7e83af6e-fc91-4534-af61-b6c5306aa654"
      },
      "source": [
        "df_train.head()"
      ],
      "execution_count": 7,
      "outputs": [
        {
          "output_type": "execute_result",
          "data": {
            "text/html": [
              "<div>\n",
              "<style scoped>\n",
              "    .dataframe tbody tr th:only-of-type {\n",
              "        vertical-align: middle;\n",
              "    }\n",
              "\n",
              "    .dataframe tbody tr th {\n",
              "        vertical-align: top;\n",
              "    }\n",
              "\n",
              "    .dataframe thead th {\n",
              "        text-align: right;\n",
              "    }\n",
              "</style>\n",
              "<table border=\"1\" class=\"dataframe\">\n",
              "  <thead>\n",
              "    <tr style=\"text-align: right;\">\n",
              "      <th></th>\n",
              "      <th>Row</th>\n",
              "      <th>Claim</th>\n",
              "      <th>Evidence</th>\n",
              "      <th>ID</th>\n",
              "      <th>Label</th>\n",
              "    </tr>\n",
              "  </thead>\n",
              "  <tbody>\n",
              "    <tr>\n",
              "      <th>0</th>\n",
              "      <td>0</td>\n",
              "      <td>chris hemsworth appeared perfect getaway</td>\n",
              "      <td>hemsworth also appeared science fiction action...</td>\n",
              "      <td>3</td>\n",
              "      <td>SUPPORTS</td>\n",
              "    </tr>\n",
              "    <tr>\n",
              "      <th>1</th>\n",
              "      <td>1</td>\n",
              "      <td>roald dahl writer</td>\n",
              "      <td>roald dahl lrb lsb langpronrold _ dl rsb lsb u...</td>\n",
              "      <td>7</td>\n",
              "      <td>SUPPORTS</td>\n",
              "    </tr>\n",
              "    <tr>\n",
              "      <th>2</th>\n",
              "      <td>2</td>\n",
              "      <td>roald dahl governor</td>\n",
              "      <td>roald dahl lrb lsb langpronrold _ dl rsb lsb u...</td>\n",
              "      <td>8</td>\n",
              "      <td>REFUTES</td>\n",
              "    </tr>\n",
              "    <tr>\n",
              "      <th>3</th>\n",
              "      <td>3</td>\n",
              "      <td>ireland relatively lowlying mountains</td>\n",
              "      <td>island geography comprises relatively lowlying...</td>\n",
              "      <td>9</td>\n",
              "      <td>SUPPORTS</td>\n",
              "    </tr>\n",
              "    <tr>\n",
              "      <th>4</th>\n",
              "      <td>4</td>\n",
              "      <td>ireland relatively lowlying mountains</td>\n",
              "      <td>island geography comprises relatively lowlying...</td>\n",
              "      <td>10</td>\n",
              "      <td>REFUTES</td>\n",
              "    </tr>\n",
              "  </tbody>\n",
              "</table>\n",
              "</div>"
            ],
            "text/plain": [
              "   Row                                     Claim  ...  ID     Label\n",
              "0    0  chris hemsworth appeared perfect getaway  ...   3  SUPPORTS\n",
              "1    1                         roald dahl writer  ...   7  SUPPORTS\n",
              "2    2                       roald dahl governor  ...   8   REFUTES\n",
              "3    3     ireland relatively lowlying mountains  ...   9  SUPPORTS\n",
              "4    4     ireland relatively lowlying mountains  ...  10   REFUTES\n",
              "\n",
              "[5 rows x 5 columns]"
            ]
          },
          "metadata": {},
          "execution_count": 7
        }
      ]
    }
  ]
}